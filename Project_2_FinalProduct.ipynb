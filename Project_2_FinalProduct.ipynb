{
  "nbformat": 4,
  "nbformat_minor": 0,
  "metadata": {
    "colab": {
      "provenance": [],
      "include_colab_link": true
    },
    "kernelspec": {
      "name": "python3",
      "display_name": "Python 3"
    },
    "language_info": {
      "name": "python"
    }
  },
  "cells": [
    {
      "cell_type": "markdown",
      "metadata": {
        "id": "view-in-github",
        "colab_type": "text"
      },
      "source": [
        "<a href=\"https://colab.research.google.com/github/Twujira/TigistData110/blob/main/Project_2_FinalProduct.ipynb\" target=\"_parent\"><img src=\"https://colab.research.google.com/assets/colab-badge.svg\" alt=\"Open In Colab\"/></a>"
      ]
    },
    {
      "cell_type": "markdown",
      "source": [
        "# Massey Ratings Project - Ibrahim, Yasmin, Angel, Tigist - MATH264"
      ],
      "metadata": {
        "id": "33mqNCM_qiLJ"
      }
    },
    {
      "cell_type": "markdown",
      "source": [
        "### Loading Data & EDA (Yasmin)"
      ],
      "metadata": {
        "id": "rvPX_abduCoi"
      }
    },
    {
      "cell_type": "code",
      "execution_count": null,
      "metadata": {
        "colab": {
          "base_uri": "https://localhost:8080/"
        },
        "id": "h6CK2fdkctsr",
        "outputId": "a11d531d-b9a9-4399-88e8-28b91cbe404b"
      },
      "outputs": [
        {
          "output_type": "stream",
          "name": "stdout",
          "text": [
            "   season  week                    kickoff   home_team  home_score  \\\n",
            "0    1978     1  1978-09-02T00:00:00+00:00  Buccaneers          13   \n",
            "1    1978     1  1978-09-03T00:00:00+00:00       Bears          17   \n",
            "2    1978     1  1978-09-03T00:00:00+00:00     Bengals          23   \n",
            "3    1978     1  1978-09-03T00:00:00+00:00       Bills          17   \n",
            "4    1978     1  1978-09-03T00:00:00+00:00     Broncos          14   \n",
            "\n",
            "   visitors_score visiting_team  \n",
            "0              19        Giants  \n",
            "1              10     Cardinals  \n",
            "2              24        Chiefs  \n",
            "3              28      Steelers  \n",
            "4               6       Raiders  \n"
          ]
        }
      ],
      "source": [
        "# Importing libraries and data\n",
        "\n",
        "import numpy as np\n",
        "import pandas as pd\n",
        "\n",
        "url = \"https://github.com/Reben80/LinearAlgebra_DataScience/raw/main/nfl%201978.csv\"\n",
        "nfl = pd.read_csv(url)\n",
        "print(nfl.head())\n"
      ]
    },
    {
      "cell_type": "code",
      "source": [
        "df_nfl = pd.DataFrame(nfl) # Creating a Matrix\n",
        "\n",
        "df_nfl['point_differentials'] = df_nfl['home_score'] - df_nfl['visitors_score'] # Adding a new column for point differential\n",
        "\n",
        "print(df_nfl.head())\n",
        "\n",
        "\n",
        "rows = df_nfl['home_team']\n",
        "columns = df_nfl['visiting_team']\n",
        "\n"
      ],
      "metadata": {
        "colab": {
          "base_uri": "https://localhost:8080/"
        },
        "id": "g1rviLbegG3m",
        "outputId": "9137b691-1473-411b-9763-972a4efdd25b"
      },
      "execution_count": null,
      "outputs": [
        {
          "output_type": "stream",
          "name": "stdout",
          "text": [
            "   season  week                    kickoff   home_team  home_score  \\\n",
            "0    1978     1  1978-09-02T00:00:00+00:00  Buccaneers          13   \n",
            "1    1978     1  1978-09-03T00:00:00+00:00       Bears          17   \n",
            "2    1978     1  1978-09-03T00:00:00+00:00     Bengals          23   \n",
            "3    1978     1  1978-09-03T00:00:00+00:00       Bills          17   \n",
            "4    1978     1  1978-09-03T00:00:00+00:00     Broncos          14   \n",
            "\n",
            "   visitors_score visiting_team  point_differentials  \n",
            "0              19        Giants                   -6  \n",
            "1              10     Cardinals                    7  \n",
            "2              24        Chiefs                   -1  \n",
            "3              28      Steelers                  -11  \n",
            "4               6       Raiders                    8  \n"
          ]
        }
      ]
    },
    {
      "cell_type": "markdown",
      "source": [
        "## Structuring our Matrix (Tigist)"
      ],
      "metadata": {
        "id": "VgZLwQcpdUOZ"
      }
    },
    {
      "cell_type": "code",
      "source": [
        "teams = sorted(set(nfl['home_team']).union(set(nfl['visiting_team']))) # combining the unique values from home and visitor columns\n",
        "number_of_teams = len(teams) # the length of number of teams will be the number of teams...\n",
        "differentials_df = np.zeros((number_of_teams, number_of_teams)) # initializing a 2d array filled with zeros\n",
        "\n",
        "for index, row in nfl.iterrows():\n",
        "    home_team = row['home_team']\n",
        "    visiting_team = row['visiting_team']\n",
        "    home_score = row['home_score']\n",
        "    visitors_score = row['visitors_score']\n",
        "    home_index = teams.index(home_team)\n",
        "    visiting_index = teams.index(visiting_team)\n",
        "# iterating through each row in nfl dataset and extracting specific column\n",
        "\n",
        "    differentials_df[home_index][visiting_index] += (home_score - visitors_score)\n",
        "    differentials_df[visiting_index][home_index] += (visitors_score - home_score)\n",
        "# updating the differentials_df matrix by adding the calculated differentials_df\n",
        "\n",
        "print(pd.DataFrame(differentials_df, index=teams, columns=teams))\n"
      ],
      "metadata": {
        "id": "EU0ikEPEc5Yj",
        "outputId": "62b005f7-5fa4-4501-f369-98f97f423bad",
        "colab": {
          "base_uri": "https://localhost:8080/"
        }
      },
      "execution_count": null,
      "outputs": [
        {
          "output_type": "stream",
          "name": "stdout",
          "text": [
            "            49ers  Bears  Bengals  Bills  Broncos  Browns  Buccaneers  \\\n",
            "49ers         0.0   -3.0     16.0    0.0      0.0   -17.0         3.0   \n",
            "Bears         3.0    0.0      0.0    0.0     -9.0     0.0        -3.0   \n",
            "Bengals     -16.0    0.0      0.0   -5.0      0.0    29.0         0.0   \n",
            "Bills         0.0    0.0      5.0    0.0      0.0   -21.0       -21.0   \n",
            "Broncos       0.0    9.0      0.0    0.0      0.0    12.0         0.0   \n",
            "Browns       17.0    0.0    -29.0   21.0    -12.0     0.0         0.0   \n",
            "Buccaneers   -3.0    3.0      0.0   21.0      0.0     0.0         0.0   \n",
            "Cardinals     6.0   -7.0      0.0    0.0      0.0     0.0         0.0   \n",
            "Chargers      0.0   33.0      9.0    0.0     10.0     0.0         0.0   \n",
            "Chiefs        0.0    0.0      1.0  -11.0    -27.0    14.0       -17.0   \n",
            "Colts         0.0    0.0      0.0  -14.0      1.0   -21.0         0.0   \n",
            "Cowboys       0.0    0.0      0.0    0.0      0.0     0.0         0.0   \n",
            "Dolphins      0.0    0.0     21.0    8.0      0.0     0.0         0.0   \n",
            "Eagles        0.0    0.0      0.0    0.0      0.0     0.0         0.0   \n",
            "Falcons      14.0   -6.0    -30.0    0.0      0.0    -8.0        -5.0   \n",
            "Giants       17.0    0.0      0.0  -24.0      0.0     0.0         9.0   \n",
            "Jets          0.0    0.0      0.0   32.0      3.0    -3.0         0.0   \n",
            "Lions        19.0  -15.0      0.0    0.0      3.0     0.0        19.0   \n",
            "Oilers        1.0    0.0     -8.0    7.0      0.0     7.0         0.0   \n",
            "Packers       0.0   -4.0      0.0    0.0    -13.0     0.0        12.0   \n",
            "Patriots      0.0    0.0      7.0    6.0      0.0     0.0         0.0   \n",
            "Raiders       0.0    6.0     13.0    0.0    -23.0     0.0         0.0   \n",
            "Rams         20.0    0.0     -1.0    0.0      0.0   -11.0         3.0   \n",
            "Redskins     18.0   -4.0      0.0    0.0      0.0     0.0         0.0   \n",
            "Saints       18.0    0.0      2.0    0.0      0.0    -8.0         7.0   \n",
            "Seahawks      0.0    2.0      0.0    0.0    -24.0    23.0         0.0   \n",
            "Steelers     17.0    0.0     26.0   11.0     27.0    26.0         0.0   \n",
            "Vikings       0.0    7.0      0.0    0.0      3.0     0.0        11.0   \n",
            "\n",
            "            Cardinals  Chargers  Chiefs  ...  Oilers  Packers  Patriots  \\\n",
            "49ers            -6.0       0.0     0.0  ...    -1.0      0.0       0.0   \n",
            "Bears             7.0     -33.0     0.0  ...     0.0      4.0       0.0   \n",
            "Bengals           0.0      -9.0    -1.0  ...     8.0      0.0      -7.0   \n",
            "Bills             0.0       0.0    11.0  ...    -7.0      0.0      -6.0   \n",
            "Broncos           0.0     -10.0    27.0  ...     0.0     13.0       0.0   \n",
            "Browns            0.0       0.0   -14.0  ...    -7.0      0.0       0.0   \n",
            "Buccaneers        0.0       0.0    17.0  ...     0.0    -12.0       0.0   \n",
            "Cardinals         0.0       0.0     0.0  ...     0.0      0.0     -10.0   \n",
            "Chargers          0.0       0.0   -17.0  ...    21.0    -13.0      -5.0   \n",
            "Chiefs            0.0      17.0     0.0  ...    -3.0      0.0       0.0   \n",
            "Colts            13.0       0.0     0.0  ...     0.0      0.0     -14.0   \n",
            "Cowboys          12.0       0.0     0.0  ...     0.0     28.0       7.0   \n",
            "Dolphins         14.0       7.0     0.0  ...   -13.0      0.0      11.0   \n",
            "Eagles           -2.0       0.0     0.0  ...     0.0      7.0     -10.0   \n",
            "Falcons         -21.0       0.0     0.0  ...     6.0      0.0       0.0   \n",
            "Giants            7.0       0.0    16.0  ...     0.0      0.0       0.0   \n",
            "Jets             13.0       0.0     0.0  ...     0.0      0.0     -36.0   \n",
            "Lions            -7.0      17.0     0.0  ...     0.0    -27.0       0.0   \n",
            "Oilers            0.0     -21.0     3.0  ...     0.0      0.0      20.0   \n",
            "Packers           0.0      13.0     0.0  ...     0.0      0.0       0.0   \n",
            "Patriots         10.0       5.0     0.0  ...   -20.0      0.0       0.0   \n",
            "Raiders           0.0      -3.0    32.0  ...     4.0     25.0      -7.0   \n",
            "Rams              0.0       0.0     0.0  ...     4.0     17.0       0.0   \n",
            "Redskins          8.0       0.0     0.0  ...     0.0      0.0       2.0   \n",
            "Saints            0.0       0.0     0.0  ...    -5.0    -11.0       0.0   \n",
            "Seahawks          0.0     -31.0     7.0  ...     0.0    -17.0       0.0   \n",
            "Steelers          0.0       0.0     3.0  ...    32.0      0.0       0.0   \n",
            "Vikings           0.0      -6.0     0.0  ...     0.0     14.0       0.0   \n",
            "\n",
            "            Raiders  Rams  Redskins  Saints  Seahawks  Steelers  Vikings  \n",
            "49ers           0.0 -20.0     -18.0   -18.0       0.0     -17.0      0.0  \n",
            "Bears          -6.0   0.0       4.0     0.0      -2.0       0.0     -7.0  \n",
            "Bengals       -13.0   1.0       0.0    -2.0       0.0     -26.0      0.0  \n",
            "Bills           0.0   0.0       0.0     0.0       0.0     -11.0      0.0  \n",
            "Broncos        23.0   0.0       0.0     0.0      24.0     -27.0     -3.0  \n",
            "Browns          0.0  11.0       0.0     8.0     -23.0     -26.0      0.0  \n",
            "Buccaneers      0.0  -3.0       0.0    -7.0       0.0       0.0    -11.0  \n",
            "Cardinals       0.0   0.0      -8.0     0.0       0.0       0.0      0.0  \n",
            "Chargers        3.0   0.0       0.0     0.0      31.0       0.0      6.0  \n",
            "Chiefs        -32.0   0.0       0.0     0.0      -7.0      -3.0      0.0  \n",
            "Colts           0.0   0.0       4.0     0.0       3.0     -22.0      0.0  \n",
            "Cowboys         0.0  15.0      23.0    20.0       0.0      -4.0    -11.0  \n",
            "Dolphins       17.0   0.0      16.0     0.0       0.0       0.0      0.0  \n",
            "Eagles          0.0  -2.0       2.0     7.0       0.0       0.0     -1.0  \n",
            "Falcons         0.0  -2.0       3.0     6.0       0.0     -24.0      0.0  \n",
            "Giants          0.0  -3.0       8.0   -11.0       0.0       0.0      0.0  \n",
            "Jets            0.0   0.0     -20.0     0.0      -7.0     -11.0      0.0  \n",
            "Lions         -12.0   0.0      -2.0     0.0     -12.0       0.0     21.0  \n",
            "Oilers         -4.0  -4.0       0.0     5.0       0.0     -32.0      0.0  \n",
            "Packers       -25.0 -17.0       0.0    11.0      17.0       0.0    -14.0  \n",
            "Patriots        7.0   0.0      -2.0     0.0       0.0       0.0      0.0  \n",
            "Raiders         0.0   0.0       0.0     0.0     -21.0       0.0      7.0  \n",
            "Rams            0.0   0.0       0.0    -1.0       0.0       3.0     41.0  \n",
            "Redskins        0.0   0.0       0.0     0.0       0.0       0.0      0.0  \n",
            "Saints          0.0   1.0       0.0     0.0       0.0      -6.0      7.0  \n",
            "Seahawks       21.0   0.0       0.0     0.0       0.0     -11.0      1.0  \n",
            "Steelers        0.0  -3.0       0.0     6.0      11.0       0.0      0.0  \n",
            "Vikings        -7.0 -41.0       0.0    -7.0      -1.0       0.0      0.0  \n",
            "\n",
            "[28 rows x 28 columns]\n"
          ]
        }
      ]
    },
    {
      "cell_type": "markdown",
      "source": [
        "## Preparing Data for our Visual (Ibrahim)"
      ],
      "metadata": {
        "id": "layphChlYwez"
      }
    },
    {
      "cell_type": "code",
      "source": [
        " row_sums = np.sum(differentials_df, axis=1) # Getting row totals (team differential totals)\n",
        "\n",
        "team_df_total = pd.DataFrame(row_sums, columns=[\"Total Point Differential\"], index = teams)\n",
        "print(team_df_total)"
      ],
      "metadata": {
        "colab": {
          "base_uri": "https://localhost:8080/"
        },
        "id": "0HlMJkhkY1oS",
        "outputId": "c9972161-24ef-4ea2-d200-95a3ee8d4de7"
      },
      "execution_count": null,
      "outputs": [
        {
          "output_type": "stream",
          "name": "stdout",
          "text": [
            "            Total Point Differential\n",
            "49ers                         -131.0\n",
            "Bears                          -21.0\n",
            "Bengals                        -32.0\n",
            "Bills                          -52.0\n",
            "Broncos                         61.0\n",
            "Browns                         -22.0\n",
            "Buccaneers                     -18.0\n",
            "Cardinals                      -48.0\n",
            "Chargers                        54.0\n",
            "Chiefs                         -84.0\n",
            "Colts                         -182.0\n",
            "Cowboys                        207.0\n",
            "Dolphins                       110.0\n",
            "Eagles                          19.0\n",
            "Falcons                        -56.0\n",
            "Giants                         -34.0\n",
            "Jets                            -5.0\n",
            "Lions                          -10.0\n",
            "Oilers                         -19.0\n",
            "Packers                        -28.0\n",
            "Patriots                        55.0\n",
            "Raiders                         28.0\n",
            "Rams                            67.0\n",
            "Redskins                       -10.0\n",
            "Saints                         -17.0\n",
            "Seahawks                       -13.0\n",
            "Steelers                       217.0\n",
            "Vikings                        -36.0\n"
          ]
        }
      ]
    },
    {
      "cell_type": "code",
      "source": [
        "print(team_df_total) # Table with team point differentials listed largest (negative) to largest (positive)"
      ],
      "metadata": {
        "colab": {
          "base_uri": "https://localhost:8080/"
        },
        "id": "OeqPdjpjuYM0",
        "outputId": "e3b37652-d334-4352-d9e1-d0b1f325da8a"
      },
      "execution_count": null,
      "outputs": [
        {
          "output_type": "stream",
          "name": "stdout",
          "text": [
            "            Total Point Differential\n",
            "Colts                         -182.0\n",
            "49ers                         -131.0\n",
            "Chiefs                         -84.0\n",
            "Falcons                        -56.0\n",
            "Bills                          -52.0\n",
            "Cardinals                      -48.0\n",
            "Vikings                        -36.0\n",
            "Giants                         -34.0\n",
            "Bengals                        -32.0\n",
            "Packers                        -28.0\n",
            "Browns                         -22.0\n",
            "Bears                          -21.0\n",
            "Oilers                         -19.0\n",
            "Buccaneers                     -18.0\n",
            "Saints                         -17.0\n",
            "Seahawks                       -13.0\n",
            "Redskins                       -10.0\n",
            "Lions                          -10.0\n",
            "Jets                            -5.0\n",
            "Eagles                          19.0\n",
            "Raiders                         28.0\n",
            "Chargers                        54.0\n",
            "Patriots                        55.0\n",
            "Broncos                         61.0\n",
            "Rams                            67.0\n",
            "Dolphins                       110.0\n",
            "Cowboys                        207.0\n",
            "Steelers                       217.0\n"
          ]
        }
      ]
    },
    {
      "cell_type": "markdown",
      "source": [
        "## Displaying Massey Ratings (Angel)"
      ],
      "metadata": {
        "id": "Si3EAJLddO7z"
      }
    },
    {
      "cell_type": "code",
      "source": [
        "import matplotlib.pyplot as plt\n",
        "\n",
        "team_df_total = team_df_total.sort_values(\"Total Point Differential\", ascending = True) # Organizing into ascending order\n",
        "\n",
        "plt.figure(figsize=(10, 8))\n",
        "plt.barh(team_df_total.index, team_df_total['Total Point Differential'], color='blue')\n",
        "plt.xlabel('Rating'); plt.title(' Massey Ratings for NFL Teams, 1978 season')\n",
        "plt.grid(axis='x')\n",
        "plt.tight_layout()\n",
        "plt.show()"
      ],
      "metadata": {
        "id": "OcYbB-NhdRC_",
        "colab": {
          "base_uri": "https://localhost:8080/",
          "height": 807
        },
        "outputId": "e405fa11-263e-4b0e-887c-3782935cdf39"
      },
      "execution_count": null,
      "outputs": [
        {
          "output_type": "display_data",
          "data": {
            "text/plain": [
              "<Figure size 1000x800 with 1 Axes>"
            ],
            "image/png": "[encoded data removed]"
          },
          "metadata": {}
        }
      ]
    },
    {
      "cell_type": "markdown",
      "source": [
        "## Reflection (Group)"
      ],
      "metadata": {
        "id": "v3wH_WLmucFJ"
      }
    },
    {
      "cell_type": "markdown",
      "source": [
        "The Massey Rating system has proven itself to be a complex way of analyzing team \"rankings\", as opposed to the traditional \"1st place, 2nd place, etc...\" In this particular analysis, we utilized team point differential to establish a ranking system. Team point differential is the difference between the number of points a team scores and the number of points is scored on that team (can also be looked at \"points for\" minus \"points against\"). First, we had to perform calculations across the entire dataframe to establish values for our \"point differential\" column, as well as structure it, reminiscing the teachings of linear algebra. Our familiarity with matrices facilitated the process. Afterwards, it was a matter of condensing all values into 1, and plot it. That is what the plot \"Massey Ratings for NFL Teams, 1978 Season\" illustrates. A ranking system like this one opens your eyes to the skill disparities that exist within teams. We're sure you'd be able to create a graph just like this in any other sport. What we noted as one of the most interesting parts of this analysis is the ability to mark a threshold on season dominance as well as playing a bad season. Unlike the traditional first place-second place ranking system, the Massey Rating system lets us see just how big the difference is for top teams and underperforming teams. 2nd place and 3rd place may seem close, but in our case, we can see that the point differential of the team in 2nd place (Cowboys) is nearly double that of the team in 3rd place (Dolphins). This provides much more insight than just \"this team is underneath the other\". It would be nice to see sports integrate a system where win-loss ratios can be supplemented."
      ],
      "metadata": {
        "id": "iiK7wjCsueax"
      }
    }
  ]
}