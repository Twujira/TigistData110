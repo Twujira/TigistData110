{
  "nbformat": 4,
  "nbformat_minor": 0,
  "metadata": {
    "colab": {
      "provenance": [],
      "authorship_tag": "ABX9TyNBrRTsX1JvcWaPL3WB9Nkg",
      "include_colab_link": true
    },
    "kernelspec": {
      "name": "python3",
      "display_name": "Python 3"
    },
    "language_info": {
      "name": "python"
    }
  },
  "cells": [
    {
      "cell_type": "markdown",
      "metadata": {
        "id": "view-in-github",
        "colab_type": "text"
      },
      "source": [
        "<a href=\"https://colab.research.google.com/github/Twujira/TigistData110/blob/main/Markov_Chain.ipynb\" target=\"_parent\"><img src=\"https://colab.research.google.com/assets/colab-badge.svg\" alt=\"Open In Colab\"/></a>"
      ]
    },
    {
      "cell_type": "markdown",
      "source": [
        "As a child, I used to bet with my siblings every night on who would host the evening news. The prime time news began streaming at 8:00 pm on Ethiopia's national TV, Ethiopian Television (ETV). There were three well-known hosts who took turns leading the news, but it was impossible to predict who would be on air that evening.\n",
        "\n",
        "Their name is Hermela, Amare, and Temesgen\n",
        "\n",
        "Transaction Matrix:\n",
        "\n",
        "     Hermela | Amare | Temesgen\n",
        "    H|  0.7  | 0.2   |  0.1\n",
        "    A|  0.3  | 0.5   |  0.2\n",
        "    T|  0.2  | 0.2   |  0.6\n",
        "\n"
      ],
      "metadata": {
        "id": "Oe5ikgJ4DNMF"
      }
    },
    {
      "cell_type": "code",
      "source": [
        "#Import necessary packages\n",
        "from sympy import Matrix\n",
        "import numpy as np"
      ],
      "metadata": {
        "id": "psC0EpLtFvl9"
      },
      "execution_count": 14,
      "outputs": []
    },
    {
      "cell_type": "code",
      "execution_count": 59,
      "metadata": {
        "colab": {
          "base_uri": "https://localhost:8080/"
        },
        "id": "Fxw923um_2nF",
        "outputId": "ee5bc0cd-03dc-438a-9538-5418e5246c50"
      },
      "outputs": [
        {
          "output_type": "stream",
          "name": "stdout",
          "text": [
            "[[0.7 0.2 0.1]\n",
            " [0.3 0.5 0.2]\n",
            " [0.2 0.2 0.6]]\n"
          ]
        }
      ],
      "source": [
        "# Define the transition matrix\n",
        "T_host = np.array([\n",
        "    [0.7, 0.2, 0.1],\n",
        "    [0.3, 0.5, 0.2],\n",
        "    [0.2, 0.2, 0.6]\n",
        "])\n",
        "\n",
        "# Print the transition matrix\n",
        "print(T_host)\n"
      ]
    },
    {
      "cell_type": "markdown",
      "source": [
        "As an initial state, if the host were Hermela. v= [1,0,0]"
      ],
      "metadata": {
        "id": "u_WzfxmXFZUm"
      }
    },
    {
      "cell_type": "code",
      "source": [
        "# Define the initial state vector\n",
        "V0 = np.array([1, 0, 0])\n",
        "\n",
        "# Multiply the initial state vector with the transition matrix\n",
        "V1 =T_host * V0\n",
        "\n",
        "# Print the result\n",
        "print(V1)\n"
      ],
      "metadata": {
        "colab": {
          "base_uri": "https://localhost:8080/"
        },
        "id": "4jCfRyqzBPaS",
        "outputId": "44df2aba-fbd9-4e5c-cba0-60410c0aff3f"
      },
      "execution_count": 57,
      "outputs": [
        {
          "output_type": "stream",
          "name": "stdout",
          "text": [
            "[[0.700000000000000 0 0]\n",
            " [0.300000000000000 0 0]\n",
            " [0.200000000000000 0 0]]\n"
          ]
        }
      ]
    },
    {
      "cell_type": "markdown",
      "source": [
        "For Day2"
      ],
      "metadata": {
        "id": "1zVyGVHCAJpj"
      }
    },
    {
      "cell_type": "code",
      "source": [
        "#multiply day1 result with transition matrix\n",
        "V2= T_host* V1\n",
        "print(V2)"
      ],
      "metadata": {
        "colab": {
          "base_uri": "https://localhost:8080/"
        },
        "id": "iryR30_RGOH5",
        "outputId": "b17e36a3-f7e3-45fb-b98f-0bd553fbc204"
      },
      "execution_count": 60,
      "outputs": [
        {
          "output_type": "stream",
          "name": "stdout",
          "text": [
            "[[0.490000000000000 0 0]\n",
            " [0.0900000000000000 0 0]\n",
            " [0.0400000000000000 0 0]]\n"
          ]
        }
      ]
    },
    {
      "cell_type": "markdown",
      "source": [
        "For Day3"
      ],
      "metadata": {
        "id": "-vAstxgUIfPq"
      }
    },
    {
      "cell_type": "code",
      "source": [
        "#multiply day2 result with transition matrix\n",
        "V3= T_host * V2\n",
        "print(V3)"
      ],
      "metadata": {
        "colab": {
          "base_uri": "https://localhost:8080/"
        },
        "id": "MX_Sr-LhIh5z",
        "outputId": "57b52f8d-b185-44d6-8932-d97bcd0b402a"
      },
      "execution_count": 61,
      "outputs": [
        {
          "output_type": "stream",
          "name": "stdout",
          "text": [
            "[[0.343000000000000 0 0]\n",
            " [0.0270000000000000 0 0]\n",
            " [0.00800000000000000 0 0]]\n"
          ]
        }
      ]
    },
    {
      "cell_type": "markdown",
      "source": [
        "## Activity 2\n",
        "\n",
        "Given 2022 Population\n",
        "\n",
        "x0=\n",
        "\n",
        "    [600,000]\n",
        "\n",
        "    [400,000]"
      ],
      "metadata": {
        "id": "ST6tTWnGPXGj"
      }
    },
    {
      "cell_type": "code",
      "source": [
        "#Define transax matrix\n",
        "A = np.array([\n",
        "    [0.92,0.04],\n",
        "    [0.08,0.96]\n",
        "    ])\n",
        "print(A)\n",
        "\n"
      ],
      "metadata": {
        "colab": {
          "base_uri": "https://localhost:8080/"
        },
        "id": "ZUrXWKlpQwW_",
        "outputId": "2b2250e1-3f42-4d23-fe62-1ca2ce4dbd71"
      },
      "execution_count": 62,
      "outputs": [
        {
          "output_type": "stream",
          "name": "stdout",
          "text": [
            "[[0.92 0.04]\n",
            " [0.08 0.96]]\n"
          ]
        }
      ]
    },
    {
      "cell_type": "code",
      "source": [
        "#Initial 2022 population\n",
        "x0 = np.array([\n",
        "    [600000],\n",
        "    [400000]\n",
        "])\n",
        "print(x0)"
      ],
      "metadata": {
        "colab": {
          "base_uri": "https://localhost:8080/"
        },
        "id": "_zHtv1EJT6tl",
        "outputId": "df55b1e2-8436-4f5d-fcd2-a14bbf60e9a1"
      },
      "execution_count": 63,
      "outputs": [
        {
          "output_type": "stream",
          "name": "stdout",
          "text": [
            "[[600000]\n",
            " [400000]]\n"
          ]
        }
      ]
    },
    {
      "cell_type": "markdown",
      "source": [
        "## 1. For 2023"
      ],
      "metadata": {
        "id": "vSJGG-aCUSRf"
      }
    },
    {
      "cell_type": "code",
      "source": [
        "#Population predict 2023\n",
        "\n",
        "P_2023=A*x0\n",
        "print(P_2023)"
      ],
      "metadata": {
        "colab": {
          "base_uri": "https://localhost:8080/"
        },
        "id": "bvOehAnfUQfz",
        "outputId": "d536e9f2-8c15-4f6f-a544-c5fe0bf5150c"
      },
      "execution_count": 72,
      "outputs": [
        {
          "output_type": "stream",
          "name": "stdout",
          "text": [
            "[[552000.  24000.]\n",
            " [ 32000. 384000.]]\n"
          ]
        }
      ]
    },
    {
      "cell_type": "markdown",
      "source": [
        "## 2. For 2030\n",
        "\n",
        "P2030= A^22*x0"
      ],
      "metadata": {
        "id": "D0i6M89-VtM4"
      }
    },
    {
      "cell_type": "code",
      "source": [
        "A = np.array([[0.92, 0.04], [0.08, 0.96]])\n",
        "A_22 = np.linalg.matrix_power(A, 22)\n",
        "print(A_22)"
      ],
      "metadata": {
        "colab": {
          "base_uri": "https://localhost:8080/"
        },
        "id": "eJn1QWTXVsRY",
        "outputId": "21eba34f-5c90-407c-b80b-0919c8f0c45b"
      },
      "execution_count": 73,
      "outputs": [
        {
          "output_type": "stream",
          "name": "stdout",
          "text": [
            "[[0.37337642 0.31331179]\n",
            " [0.62662358 0.68668821]]\n"
          ]
        }
      ]
    },
    {
      "cell_type": "code",
      "source": [
        "P_2030=A_22*x0\n",
        "print(P_2030)"
      ],
      "metadata": {
        "colab": {
          "base_uri": "https://localhost:8080/"
        },
        "id": "-UIaxaoQWm6U",
        "outputId": "9d54db3c-b317-4636-a09c-72da0e5cdc62"
      },
      "execution_count": 74,
      "outputs": [
        {
          "output_type": "stream",
          "name": "stdout",
          "text": [
            "[[224025.85095737 187987.07452132]\n",
            " [250649.43269509 274675.28365246]]\n"
          ]
        }
      ]
    }
  ]
}