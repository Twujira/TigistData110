{
  "nbformat": 4,
  "nbformat_minor": 0,
  "metadata": {
    "colab": {
      "provenance": [],
      "authorship_tag": "ABX9TyOHArX0tMqpQYU1vp8ncWNF",
      "include_colab_link": true
    },
    "kernelspec": {
      "name": "python3",
      "display_name": "Python 3"
    },
    "language_info": {
      "name": "python"
    }
  },
  "cells": [
    {
      "cell_type": "markdown",
      "metadata": {
        "id": "view-in-github",
        "colab_type": "text"
      },
      "source": [
        "<a href=\"https://colab.research.google.com/github/Twujira/TigistData110/blob/main/Markov_Chain.ipynb\" target=\"_parent\"><img src=\"https://colab.research.google.com/assets/colab-badge.svg\" alt=\"Open In Colab\"/></a>"
      ]
    },
    {
      "cell_type": "markdown",
      "source": [
        "## Markov_Chain Project1\n",
        "\n",
        "By: Tigist Wujira\n",
        "\n",
        "Introduction\n",
        "\n",
        "As a child, I used to bet with my siblings every night on who would host the evening news. The prime time news began streaming at 8:00 pm on Ethiopia's national TV, Ethiopian Television (ETV). There were three well-known hosts who took turns leading the news, but it was impossible to predict who would be on air that evening.\n",
        "\n",
        "Their name is Hermela, Amare, and Temesgen\n",
        "\n",
        "Transaction Matrix:\n",
        "\n",
        "     Hermela | Amare | Temesgen\n",
        "    H|  0.7  | 0.2   |  0.1\n",
        "    A|  0.3  | 0.5   |  0.2\n",
        "    T|  0.2  | 0.2   |  0.6\n",
        "\n"
      ],
      "metadata": {
        "id": "Oe5ikgJ4DNMF"
      }
    },
    {
      "cell_type": "code",
      "source": [
        "#Import necessary packages\n",
        "from sympy import Matrix\n",
        "import numpy as np"
      ],
      "metadata": {
        "id": "psC0EpLtFvl9"
      },
      "execution_count": 1,
      "outputs": []
    },
    {
      "cell_type": "code",
      "execution_count": 2,
      "metadata": {
        "colab": {
          "base_uri": "https://localhost:8080/"
        },
        "id": "Fxw923um_2nF",
        "outputId": "64d3a375-79e9-4b06-df45-c6b9c8c4644f"
      },
      "outputs": [
        {
          "output_type": "stream",
          "name": "stdout",
          "text": [
            "[[0.7 0.2 0.1]\n",
            " [0.3 0.5 0.2]\n",
            " [0.2 0.2 0.6]]\n"
          ]
        }
      ],
      "source": [
        "# Define the transition matrix\n",
        "T_host = np.matrix([\n",
        "    [0.7, 0.2, 0.1],\n",
        "    [0.3, 0.5, 0.2],\n",
        "    [0.2, 0.2, 0.6]\n",
        "])\n",
        "\n",
        "# Print the transition matrix\n",
        "print(T_host)\n"
      ]
    },
    {
      "cell_type": "markdown",
      "source": [
        "As an initial state, if the host were Hermela. v= [1,0,0]"
      ],
      "metadata": {
        "id": "u_WzfxmXFZUm"
      }
    },
    {
      "cell_type": "code",
      "source": [
        "# Define the initial state vector\n",
        "V0 = np.array([1, 0, 0])\n",
        "\n",
        "# Multiply the initial state vector with the transition matrix\n",
        "V1 =V0*T_host\n",
        "\n",
        "# Print the result\n",
        "print(V1)\n"
      ],
      "metadata": {
        "colab": {
          "base_uri": "https://localhost:8080/"
        },
        "id": "4jCfRyqzBPaS",
        "outputId": "072808b8-d82c-4428-f83c-81647a435ecd"
      },
      "execution_count": 3,
      "outputs": [
        {
          "output_type": "stream",
          "name": "stdout",
          "text": [
            "[[0.7 0.2 0.1]]\n"
          ]
        }
      ]
    },
    {
      "cell_type": "markdown",
      "source": [
        "For Day2"
      ],
      "metadata": {
        "id": "1zVyGVHCAJpj"
      }
    },
    {
      "cell_type": "code",
      "source": [
        "#multiply day1 result with transition matrix\n",
        "V2=V1*T_host\n",
        "print(V2)"
      ],
      "metadata": {
        "colab": {
          "base_uri": "https://localhost:8080/"
        },
        "id": "iryR30_RGOH5",
        "outputId": "da1f9d06-737d-4a8d-9acc-a5aacaaa562b"
      },
      "execution_count": 4,
      "outputs": [
        {
          "output_type": "stream",
          "name": "stdout",
          "text": [
            "[[0.57 0.26 0.17]]\n"
          ]
        }
      ]
    },
    {
      "cell_type": "markdown",
      "source": [
        "For Day3"
      ],
      "metadata": {
        "id": "-vAstxgUIfPq"
      }
    },
    {
      "cell_type": "code",
      "source": [
        "#multiply day2 result with transition matrix\n",
        "V3=V2*T_host\n",
        "print(V3)"
      ],
      "metadata": {
        "colab": {
          "base_uri": "https://localhost:8080/"
        },
        "id": "MX_Sr-LhIh5z",
        "outputId": "ea567392-75aa-4000-e89b-fc116384b116"
      },
      "execution_count": 5,
      "outputs": [
        {
          "output_type": "stream",
          "name": "stdout",
          "text": [
            "[[0.511 0.278 0.211]]\n"
          ]
        }
      ]
    },
    {
      "cell_type": "markdown",
      "source": [
        "## Activity 2\n",
        "\n",
        "Given 2022 Population\n",
        "\n",
        "x0=\n",
        "\n",
        "    [600,000]\n",
        "\n",
        "    [400,000]"
      ],
      "metadata": {
        "id": "ST6tTWnGPXGj"
      }
    },
    {
      "cell_type": "code",
      "source": [
        "#Define transax matrix\n",
        "A = np.array([\n",
        "    [0.92,0.04],\n",
        "    [0.08,0.96]\n",
        "    ])\n",
        "print(A)\n",
        "\n"
      ],
      "metadata": {
        "colab": {
          "base_uri": "https://localhost:8080/"
        },
        "id": "ZUrXWKlpQwW_",
        "outputId": "0bf30a69-89cf-4c74-db3a-63eb67c8441e"
      },
      "execution_count": 14,
      "outputs": [
        {
          "output_type": "stream",
          "name": "stdout",
          "text": [
            "[[0.92 0.04]\n",
            " [0.08 0.96]]\n"
          ]
        }
      ]
    },
    {
      "cell_type": "code",
      "source": [
        "#Initial 2022 population\n",
        "x0 = np.matrix([\n",
        "    [600000],\n",
        "    [400000]\n",
        "])\n",
        "print(x0)"
      ],
      "metadata": {
        "colab": {
          "base_uri": "https://localhost:8080/"
        },
        "id": "_zHtv1EJT6tl",
        "outputId": "c35331df-3998-481a-9ba3-90f3e55c1c51"
      },
      "execution_count": 15,
      "outputs": [
        {
          "output_type": "stream",
          "name": "stdout",
          "text": [
            "[[600000]\n",
            " [400000]]\n"
          ]
        }
      ]
    },
    {
      "cell_type": "markdown",
      "source": [
        "## 1. For 2023"
      ],
      "metadata": {
        "id": "vSJGG-aCUSRf"
      }
    },
    {
      "cell_type": "code",
      "source": [
        "#Population predict 2023\n",
        "\n",
        "P_2023=A*x0\n",
        "print(P_2023)"
      ],
      "metadata": {
        "colab": {
          "base_uri": "https://localhost:8080/"
        },
        "id": "bvOehAnfUQfz",
        "outputId": "5efe8cfa-5fad-4144-f45d-2daf2f6fed69"
      },
      "execution_count": 16,
      "outputs": [
        {
          "output_type": "stream",
          "name": "stdout",
          "text": [
            "[[568000.]\n",
            " [432000.]]\n"
          ]
        }
      ]
    },
    {
      "cell_type": "markdown",
      "source": [
        "## 2. For 2030\n",
        "\n",
        "The difference between 2030 and 2022 is 8 years\n",
        "\n",
        "Therefore:\n",
        "\n",
        "'A' the power of 8\n",
        "\n",
        "P_2030= A^8*x0 (the initial population)"
      ],
      "metadata": {
        "id": "D0i6M89-VtM4"
      }
    },
    {
      "cell_type": "code",
      "source": [
        "A_8 = np.linalg.matrix_power(A, 8)\n",
        "print(A_8)"
      ],
      "metadata": {
        "colab": {
          "base_uri": "https://localhost:8080/"
        },
        "id": "eJn1QWTXVsRY",
        "outputId": "36e32e01-d519-429f-9c49-08213260cb4c"
      },
      "execution_count": 17,
      "outputs": [
        {
          "output_type": "stream",
          "name": "stdout",
          "text": [
            "[[0.57308968 0.21345516]\n",
            " [0.42691032 0.78654484]]\n"
          ]
        }
      ]
    },
    {
      "cell_type": "code",
      "source": [
        "P_2030=A_8*x0\n",
        "print(P_2030)"
      ],
      "metadata": {
        "colab": {
          "base_uri": "https://localhost:8080/"
        },
        "id": "-UIaxaoQWm6U",
        "outputId": "63158bf0-d1fa-48e5-fb60-0ad7733dd83e"
      },
      "execution_count": 18,
      "outputs": [
        {
          "output_type": "stream",
          "name": "stdout",
          "text": [
            "[[429235.87328147]\n",
            " [570764.12671853]]\n"
          ]
        }
      ]
    },
    {
      "cell_type": "markdown",
      "source": [
        "Conclusion\n",
        "\n",
        "By the year 2030, the city is expected to have a population of 429,236, while the suburbs are projected to have a population of 570,764."
      ],
      "metadata": {
        "id": "-0XymXVWvRHz"
      }
    }
  ]
}